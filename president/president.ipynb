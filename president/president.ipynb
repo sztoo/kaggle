{
  "cells": [
    {
      "metadata": {
        "_cell_guid": "17988522-7d9d-4dfb-8c62-3fee02407d77",
        "_uuid": "e7239f2883eb8f163d405a06a9d288f4009bc945",
        "trusted": true
      },
      "cell_type": "code",
      "source": "# This Python 3 environment comes with many helpful analytics libraries installed\n# It is defined by the kaggle/python docker image: https://github.com/kaggle/docker-python\n# For example, here's several helpful packages to load in \n\nimport numpy as np # linear algebra\nimport pandas as pd # data processing, CSV file I/O (e.g. pd.read_csv)\n\n# Input data files are available in the \"../input/\" directory.\n# For example, running this (by clicking run or pressing Shift+Enter) will list the files in the input directory\n\nfrom subprocess import check_output\nprint(check_output([\"ls\", \"../input\"]).decode(\"utf8\"))\n\n# Any results you write to the current directory are saved as output.",
      "execution_count": 1,
      "outputs": [
        {
          "output_type": "stream",
          "text": "test_potus_by_county.csv\ntrain_potus_by_county.csv\n\n",
          "name": "stdout"
        }
      ]
    },
    {
      "metadata": {
        "_cell_guid": "56efb7f2-6be8-42da-b774-8444d1cc3792",
        "_uuid": "0b3d1cc8f6722362bb8441feecac7fa068a5d757",
        "trusted": true
      },
      "cell_type": "code",
      "source": "import seaborn as sns\nfrom sklearn.model_selection import train_test_split\nfrom sklearn.linear_model import LinearRegression \n\n# let's a take a look at the data \ntrain_df = pd.read_csv('../input/train_potus_by_county.csv')\ntest_df = pd.read_csv('../input/train_potus_by_county.csv')\n\ntrain_df.head()",
      "execution_count": 2,
      "outputs": [
        {
          "output_type": "execute_result",
          "execution_count": 2,
          "data": {
            "text/plain": "   Total population  Median age  % BachelorsDeg or higher  Unemployment rate  \\\n0              9278        37.9                      12.6               21.3   \n1             18594        36.3                       9.7               14.3   \n2            662628        37.9                      27.9               12.1   \n3             21292        38.9                      14.1               15.7   \n4             13252        34.5                      15.0               15.8   \n\n   Per capita income  Total households  Average household size  \\\n0            13992.0              3802                    2.42   \n1            14622.0              6764                    2.55   \n2            23909.0            267862                    2.41   \n3            16829.0              8547                    2.47   \n4            13012.0              5222                    2.47   \n\n   % Owner occupied housing  % Renter occupied housing  % Vacant housing  \\\n0                      51.9                       16.6              31.6   \n1                      63.7                       16.2              20.1   \n2                      57.0                       28.8              14.2   \n3                      63.5                       17.1              19.4   \n4                      53.7                       20.7              25.6   \n\n   Median home value  Population growth  House hold growth  \\\n0            63959.0              -0.69              -0.49   \n1            74330.0              -0.13               0.03   \n2           112687.0              -0.09               0.00   \n3            73643.0              -0.59              -0.43   \n4            56642.0              -1.16              -1.03   \n\n   Per capita income growth        Winner  \n0                      0.71  Barack Obama  \n1                      0.85  Barack Obama  \n2                      0.55  Barack Obama  \n3                      0.57  Barack Obama  \n4                      0.69  Barack Obama  ",
            "text/html": "<div>\n<style>\n    .dataframe thead tr:only-child th {\n        text-align: right;\n    }\n\n    .dataframe thead th {\n        text-align: left;\n    }\n\n    .dataframe tbody tr th {\n        vertical-align: top;\n    }\n</style>\n<table border=\"1\" class=\"dataframe\">\n  <thead>\n    <tr style=\"text-align: right;\">\n      <th></th>\n      <th>Total population</th>\n      <th>Median age</th>\n      <th>% BachelorsDeg or higher</th>\n      <th>Unemployment rate</th>\n      <th>Per capita income</th>\n      <th>Total households</th>\n      <th>Average household size</th>\n      <th>% Owner occupied housing</th>\n      <th>% Renter occupied housing</th>\n      <th>% Vacant housing</th>\n      <th>Median home value</th>\n      <th>Population growth</th>\n      <th>House hold growth</th>\n      <th>Per capita income growth</th>\n      <th>Winner</th>\n    </tr>\n  </thead>\n  <tbody>\n    <tr>\n      <th>0</th>\n      <td>9278</td>\n      <td>37.9</td>\n      <td>12.6</td>\n      <td>21.3</td>\n      <td>13992.0</td>\n      <td>3802</td>\n      <td>2.42</td>\n      <td>51.9</td>\n      <td>16.6</td>\n      <td>31.6</td>\n      <td>63959.0</td>\n      <td>-0.69</td>\n      <td>-0.49</td>\n      <td>0.71</td>\n      <td>Barack Obama</td>\n    </tr>\n    <tr>\n      <th>1</th>\n      <td>18594</td>\n      <td>36.3</td>\n      <td>9.7</td>\n      <td>14.3</td>\n      <td>14622.0</td>\n      <td>6764</td>\n      <td>2.55</td>\n      <td>63.7</td>\n      <td>16.2</td>\n      <td>20.1</td>\n      <td>74330.0</td>\n      <td>-0.13</td>\n      <td>0.03</td>\n      <td>0.85</td>\n      <td>Barack Obama</td>\n    </tr>\n    <tr>\n      <th>2</th>\n      <td>662628</td>\n      <td>37.9</td>\n      <td>27.9</td>\n      <td>12.1</td>\n      <td>23909.0</td>\n      <td>267862</td>\n      <td>2.41</td>\n      <td>57.0</td>\n      <td>28.8</td>\n      <td>14.2</td>\n      <td>112687.0</td>\n      <td>-0.09</td>\n      <td>0.00</td>\n      <td>0.55</td>\n      <td>Barack Obama</td>\n    </tr>\n    <tr>\n      <th>3</th>\n      <td>21292</td>\n      <td>38.9</td>\n      <td>14.1</td>\n      <td>15.7</td>\n      <td>16829.0</td>\n      <td>8547</td>\n      <td>2.47</td>\n      <td>63.5</td>\n      <td>17.1</td>\n      <td>19.4</td>\n      <td>73643.0</td>\n      <td>-0.59</td>\n      <td>-0.43</td>\n      <td>0.57</td>\n      <td>Barack Obama</td>\n    </tr>\n    <tr>\n      <th>4</th>\n      <td>13252</td>\n      <td>34.5</td>\n      <td>15.0</td>\n      <td>15.8</td>\n      <td>13012.0</td>\n      <td>5222</td>\n      <td>2.47</td>\n      <td>53.7</td>\n      <td>20.7</td>\n      <td>25.6</td>\n      <td>56642.0</td>\n      <td>-1.16</td>\n      <td>-1.03</td>\n      <td>0.69</td>\n      <td>Barack Obama</td>\n    </tr>\n  </tbody>\n</table>\n</div>"
          },
          "metadata": {}
        }
      ]
    },
    {
      "metadata": {
        "_cell_guid": "3ff12469-6a78-46fe-92aa-89529f3da3d6",
        "_uuid": "d04bee5601af4448a51e0aa3c3388ebc796d4673",
        "trusted": true
      },
      "cell_type": "code",
      "source": "test_df.head()",
      "execution_count": 3,
      "outputs": [
        {
          "output_type": "execute_result",
          "execution_count": 3,
          "data": {
            "text/plain": "   Total population  Median age  % BachelorsDeg or higher  Unemployment rate  \\\n0              9278        37.9                      12.6               21.3   \n1             18594        36.3                       9.7               14.3   \n2            662628        37.9                      27.9               12.1   \n3             21292        38.9                      14.1               15.7   \n4             13252        34.5                      15.0               15.8   \n\n   Per capita income  Total households  Average household size  \\\n0            13992.0              3802                    2.42   \n1            14622.0              6764                    2.55   \n2            23909.0            267862                    2.41   \n3            16829.0              8547                    2.47   \n4            13012.0              5222                    2.47   \n\n   % Owner occupied housing  % Renter occupied housing  % Vacant housing  \\\n0                      51.9                       16.6              31.6   \n1                      63.7                       16.2              20.1   \n2                      57.0                       28.8              14.2   \n3                      63.5                       17.1              19.4   \n4                      53.7                       20.7              25.6   \n\n   Median home value  Population growth  House hold growth  \\\n0            63959.0              -0.69              -0.49   \n1            74330.0              -0.13               0.03   \n2           112687.0              -0.09               0.00   \n3            73643.0              -0.59              -0.43   \n4            56642.0              -1.16              -1.03   \n\n   Per capita income growth        Winner  \n0                      0.71  Barack Obama  \n1                      0.85  Barack Obama  \n2                      0.55  Barack Obama  \n3                      0.57  Barack Obama  \n4                      0.69  Barack Obama  ",
            "text/html": "<div>\n<style>\n    .dataframe thead tr:only-child th {\n        text-align: right;\n    }\n\n    .dataframe thead th {\n        text-align: left;\n    }\n\n    .dataframe tbody tr th {\n        vertical-align: top;\n    }\n</style>\n<table border=\"1\" class=\"dataframe\">\n  <thead>\n    <tr style=\"text-align: right;\">\n      <th></th>\n      <th>Total population</th>\n      <th>Median age</th>\n      <th>% BachelorsDeg or higher</th>\n      <th>Unemployment rate</th>\n      <th>Per capita income</th>\n      <th>Total households</th>\n      <th>Average household size</th>\n      <th>% Owner occupied housing</th>\n      <th>% Renter occupied housing</th>\n      <th>% Vacant housing</th>\n      <th>Median home value</th>\n      <th>Population growth</th>\n      <th>House hold growth</th>\n      <th>Per capita income growth</th>\n      <th>Winner</th>\n    </tr>\n  </thead>\n  <tbody>\n    <tr>\n      <th>0</th>\n      <td>9278</td>\n      <td>37.9</td>\n      <td>12.6</td>\n      <td>21.3</td>\n      <td>13992.0</td>\n      <td>3802</td>\n      <td>2.42</td>\n      <td>51.9</td>\n      <td>16.6</td>\n      <td>31.6</td>\n      <td>63959.0</td>\n      <td>-0.69</td>\n      <td>-0.49</td>\n      <td>0.71</td>\n      <td>Barack Obama</td>\n    </tr>\n    <tr>\n      <th>1</th>\n      <td>18594</td>\n      <td>36.3</td>\n      <td>9.7</td>\n      <td>14.3</td>\n      <td>14622.0</td>\n      <td>6764</td>\n      <td>2.55</td>\n      <td>63.7</td>\n      <td>16.2</td>\n      <td>20.1</td>\n      <td>74330.0</td>\n      <td>-0.13</td>\n      <td>0.03</td>\n      <td>0.85</td>\n      <td>Barack Obama</td>\n    </tr>\n    <tr>\n      <th>2</th>\n      <td>662628</td>\n      <td>37.9</td>\n      <td>27.9</td>\n      <td>12.1</td>\n      <td>23909.0</td>\n      <td>267862</td>\n      <td>2.41</td>\n      <td>57.0</td>\n      <td>28.8</td>\n      <td>14.2</td>\n      <td>112687.0</td>\n      <td>-0.09</td>\n      <td>0.00</td>\n      <td>0.55</td>\n      <td>Barack Obama</td>\n    </tr>\n    <tr>\n      <th>3</th>\n      <td>21292</td>\n      <td>38.9</td>\n      <td>14.1</td>\n      <td>15.7</td>\n      <td>16829.0</td>\n      <td>8547</td>\n      <td>2.47</td>\n      <td>63.5</td>\n      <td>17.1</td>\n      <td>19.4</td>\n      <td>73643.0</td>\n      <td>-0.59</td>\n      <td>-0.43</td>\n      <td>0.57</td>\n      <td>Barack Obama</td>\n    </tr>\n    <tr>\n      <th>4</th>\n      <td>13252</td>\n      <td>34.5</td>\n      <td>15.0</td>\n      <td>15.8</td>\n      <td>13012.0</td>\n      <td>5222</td>\n      <td>2.47</td>\n      <td>53.7</td>\n      <td>20.7</td>\n      <td>25.6</td>\n      <td>56642.0</td>\n      <td>-1.16</td>\n      <td>-1.03</td>\n      <td>0.69</td>\n      <td>Barack Obama</td>\n    </tr>\n  </tbody>\n</table>\n</div>"
          },
          "metadata": {}
        }
      ]
    },
    {
      "metadata": {
        "_cell_guid": "2be81838-9710-4063-8085-49c4ed02a43d",
        "_uuid": "945182043764d43c58aa98a1ffdcaae2e6a936cd",
        "trusted": true
      },
      "cell_type": "code",
      "source": "winner_df = train_df.groupby('Winner').size()\nwinner_df.plot.bar()\n\n# clearly that the class rather imbalanced, but let's go ahead and see what happens.",
      "execution_count": 4,
      "outputs": [
        {
          "output_type": "execute_result",
          "execution_count": 4,
          "data": {
            "text/plain": "<matplotlib.axes._subplots.AxesSubplot at 0x7ff53e17b9b0>"
          },
          "metadata": {}
        },
        {
          "output_type": "display_data",
          "data": {
            "text/plain": "<matplotlib.figure.Figure at 0x7ff53e17b908>",
            "image/png": "[encoded data removed]"
          },
          "metadata": {}
        }
      ]
    },
    {
      "metadata": {
        "_cell_guid": "a94cffff-be6d-47b6-892c-10288934133f",
        "_uuid": "12569ea93b6eb3d7127e24b30968c29602add733",
        "collapsed": true,
        "trusted": true
      },
      "cell_type": "code",
      "source": "\ntrain_df['Winner_1'] = np.where(test_df['Winner']=='Barack Obama', 1, 0)",
      "execution_count": 5,
      "outputs": []
    },
    {
      "metadata": {
        "_cell_guid": "7c1c84ef-de5f-4628-8a29-e56373a470e7",
        "_uuid": "da87e18dd8ed57de5ea705dce74d6c49ff28fc09",
        "collapsed": true,
        "trusted": true
      },
      "cell_type": "code",
      "source": "# X = train_df.iloc[:, 0:14]\n# y = train_df['Winner_1']\n\n# X_train, X_test, y_train, y_test = train_test_split(X, y, test_size=0.3, random_state=42)\n# lm = LinearRegression() \n# model = lm.fit(X_train, y_train)\n# model",
      "execution_count": 6,
      "outputs": []
    },
    {
      "metadata": {
        "_cell_guid": "ee3054f1-1c7c-4009-a0c1-59fc60f1a408",
        "_uuid": "401c0f5d1a32ec8f023faa622b703b97de3d35c7",
        "trusted": true
      },
      "cell_type": "code",
      "source": "test_df.head()",
      "execution_count": 7,
      "outputs": [
        {
          "output_type": "execute_result",
          "execution_count": 7,
          "data": {
            "text/plain": "   Total population  Median age  % BachelorsDeg or higher  Unemployment rate  \\\n0              9278        37.9                      12.6               21.3   \n1             18594        36.3                       9.7               14.3   \n2            662628        37.9                      27.9               12.1   \n3             21292        38.9                      14.1               15.7   \n4             13252        34.5                      15.0               15.8   \n\n   Per capita income  Total households  Average household size  \\\n0            13992.0              3802                    2.42   \n1            14622.0              6764                    2.55   \n2            23909.0            267862                    2.41   \n3            16829.0              8547                    2.47   \n4            13012.0              5222                    2.47   \n\n   % Owner occupied housing  % Renter occupied housing  % Vacant housing  \\\n0                      51.9                       16.6              31.6   \n1                      63.7                       16.2              20.1   \n2                      57.0                       28.8              14.2   \n3                      63.5                       17.1              19.4   \n4                      53.7                       20.7              25.6   \n\n   Median home value  Population growth  House hold growth  \\\n0            63959.0              -0.69              -0.49   \n1            74330.0              -0.13               0.03   \n2           112687.0              -0.09               0.00   \n3            73643.0              -0.59              -0.43   \n4            56642.0              -1.16              -1.03   \n\n   Per capita income growth        Winner  \n0                      0.71  Barack Obama  \n1                      0.85  Barack Obama  \n2                      0.55  Barack Obama  \n3                      0.57  Barack Obama  \n4                      0.69  Barack Obama  ",
            "text/html": "<div>\n<style>\n    .dataframe thead tr:only-child th {\n        text-align: right;\n    }\n\n    .dataframe thead th {\n        text-align: left;\n    }\n\n    .dataframe tbody tr th {\n        vertical-align: top;\n    }\n</style>\n<table border=\"1\" class=\"dataframe\">\n  <thead>\n    <tr style=\"text-align: right;\">\n      <th></th>\n      <th>Total population</th>\n      <th>Median age</th>\n      <th>% BachelorsDeg or higher</th>\n      <th>Unemployment rate</th>\n      <th>Per capita income</th>\n      <th>Total households</th>\n      <th>Average household size</th>\n      <th>% Owner occupied housing</th>\n      <th>% Renter occupied housing</th>\n      <th>% Vacant housing</th>\n      <th>Median home value</th>\n      <th>Population growth</th>\n      <th>House hold growth</th>\n      <th>Per capita income growth</th>\n      <th>Winner</th>\n    </tr>\n  </thead>\n  <tbody>\n    <tr>\n      <th>0</th>\n      <td>9278</td>\n      <td>37.9</td>\n      <td>12.6</td>\n      <td>21.3</td>\n      <td>13992.0</td>\n      <td>3802</td>\n      <td>2.42</td>\n      <td>51.9</td>\n      <td>16.6</td>\n      <td>31.6</td>\n      <td>63959.0</td>\n      <td>-0.69</td>\n      <td>-0.49</td>\n      <td>0.71</td>\n      <td>Barack Obama</td>\n    </tr>\n    <tr>\n      <th>1</th>\n      <td>18594</td>\n      <td>36.3</td>\n      <td>9.7</td>\n      <td>14.3</td>\n      <td>14622.0</td>\n      <td>6764</td>\n      <td>2.55</td>\n      <td>63.7</td>\n      <td>16.2</td>\n      <td>20.1</td>\n      <td>74330.0</td>\n      <td>-0.13</td>\n      <td>0.03</td>\n      <td>0.85</td>\n      <td>Barack Obama</td>\n    </tr>\n    <tr>\n      <th>2</th>\n      <td>662628</td>\n      <td>37.9</td>\n      <td>27.9</td>\n      <td>12.1</td>\n      <td>23909.0</td>\n      <td>267862</td>\n      <td>2.41</td>\n      <td>57.0</td>\n      <td>28.8</td>\n      <td>14.2</td>\n      <td>112687.0</td>\n      <td>-0.09</td>\n      <td>0.00</td>\n      <td>0.55</td>\n      <td>Barack Obama</td>\n    </tr>\n    <tr>\n      <th>3</th>\n      <td>21292</td>\n      <td>38.9</td>\n      <td>14.1</td>\n      <td>15.7</td>\n      <td>16829.0</td>\n      <td>8547</td>\n      <td>2.47</td>\n      <td>63.5</td>\n      <td>17.1</td>\n      <td>19.4</td>\n      <td>73643.0</td>\n      <td>-0.59</td>\n      <td>-0.43</td>\n      <td>0.57</td>\n      <td>Barack Obama</td>\n    </tr>\n    <tr>\n      <th>4</th>\n      <td>13252</td>\n      <td>34.5</td>\n      <td>15.0</td>\n      <td>15.8</td>\n      <td>13012.0</td>\n      <td>5222</td>\n      <td>2.47</td>\n      <td>53.7</td>\n      <td>20.7</td>\n      <td>25.6</td>\n      <td>56642.0</td>\n      <td>-1.16</td>\n      <td>-1.03</td>\n      <td>0.69</td>\n      <td>Barack Obama</td>\n    </tr>\n  </tbody>\n</table>\n</div>"
          },
          "metadata": {}
        }
      ]
    },
    {
      "metadata": {
        "_cell_guid": "71028904-244b-4d61-8ad2-65b756cbaa55",
        "_uuid": "1c20790bcfa5cf5412ea45ee6e87d942dac6331b",
        "trusted": true
      },
      "cell_type": "code",
      "source": "X_train = train_df.iloc[:,0:14] # dropped Winner, Winner_1 \ny_train = train_df['Winner_1']\nX_test = test_df.drop(['Winner'], axis=1).copy()\n\nX_train.shape, y_train.shape, X_test.shape",
      "execution_count": 8,
      "outputs": [
        {
          "output_type": "execute_result",
          "execution_count": 8,
          "data": {
            "text/plain": "((1213, 14), (1213,), (1213, 14))"
          },
          "metadata": {}
        }
      ]
    },
    {
      "metadata": {
        "_cell_guid": "99bad58a-e468-4ba8-9442-e013934ef798",
        "_uuid": "d54a25e203437f3879cec5731fcfa31e4dbd98ab",
        "trusted": true
      },
      "cell_type": "code",
      "source": "from sklearn.linear_model import LogisticRegression\n\nlog_reg = LogisticRegression()\nlog_reg.fit(X_train, y_train)",
      "execution_count": 9,
      "outputs": [
        {
          "output_type": "execute_result",
          "execution_count": 9,
          "data": {
            "text/plain": "LogisticRegression(C=1.0, class_weight=None, dual=False, fit_intercept=True,\n          intercept_scaling=1, max_iter=100, multi_class='ovr', n_jobs=1,\n          penalty='l2', random_state=None, solver='liblinear', tol=0.0001,\n          verbose=0, warm_start=False)"
          },
          "metadata": {}
        }
      ]
    },
    {
      "metadata": {
        "_cell_guid": "f80ebbf9-5c89-40d5-9d23-c10f37eb955c",
        "_uuid": "6fa7d8c874fb3c9d4e89140f6c1e06ab9aac3bea",
        "collapsed": true,
        "trusted": true
      },
      "cell_type": "code",
      "source": "log_y_pred = log_reg.predict(X_test)",
      "execution_count": 10,
      "outputs": []
    },
    {
      "metadata": {
        "_cell_guid": "4ef51c91-1180-4ac4-ad83-59cb43973bd3",
        "_uuid": "62cfa98d21f330e87766d21371130d5dd6fa4244",
        "trusted": true
      },
      "cell_type": "code",
      "source": "log_reg_score = log_reg.score(X_train, y_train)\nlog_reg_score",
      "execution_count": 11,
      "outputs": [
        {
          "output_type": "execute_result",
          "execution_count": 11,
          "data": {
            "text/plain": "0.83511953833470731"
          },
          "metadata": {}
        }
      ]
    },
    {
      "metadata": {
        "_cell_guid": "b6eca736-5c9a-426b-8b9a-1ec3a9c0a354",
        "_uuid": "ed52fef8e8c12ff143d2c53a7b70a57ab0bee7cc",
        "collapsed": true,
        "trusted": true
      },
      "cell_type": "code",
      "source": "from sklearn.ensemble import RandomForestClassifier \nrf = RandomForestClassifier()",
      "execution_count": 12,
      "outputs": []
    },
    {
      "metadata": {
        "_cell_guid": "0f3fe4c3-d5af-4f9b-9401-3c54d24877ff",
        "_uuid": "aff014ab2aa56c3d4e354425b72c496d301bda7d",
        "trusted": true
      },
      "cell_type": "code",
      "source": "rf.fit(X_train, y_train)\n",
      "execution_count": 13,
      "outputs": [
        {
          "output_type": "execute_result",
          "execution_count": 13,
          "data": {
            "text/plain": "RandomForestClassifier(bootstrap=True, class_weight=None, criterion='gini',\n            max_depth=None, max_features='auto', max_leaf_nodes=None,\n            min_impurity_decrease=0.0, min_impurity_split=None,\n            min_samples_leaf=1, min_samples_split=2,\n            min_weight_fraction_leaf=0.0, n_estimators=10, n_jobs=1,\n            oob_score=False, random_state=None, verbose=0,\n            warm_start=False)"
          },
          "metadata": {}
        }
      ]
    },
    {
      "metadata": {
        "_cell_guid": "9515b6b2-d330-48ae-a1dd-8f28a403942b",
        "_uuid": "41c6bdc9c2fdd8828fab28e327735d4366e74336",
        "trusted": true
      },
      "cell_type": "code",
      "source": "rf_y_pred = rf.predict(X_test)\nrf_score = rf.score(X_train, y_train)\nrf_score",
      "execution_count": 14,
      "outputs": [
        {
          "output_type": "execute_result",
          "execution_count": 14,
          "data": {
            "text/plain": "0.98433635614179715"
          },
          "metadata": {}
        }
      ]
    },
    {
      "metadata": {
        "_cell_guid": "e358e587-b2de-4a0b-9a9d-27068286bb64",
        "_uuid": "d9d6add406fea072a4d7c0e79520fcbcb644bf4e",
        "trusted": true
      },
      "cell_type": "code",
      "source": "# Stochastic Gradient Descent \nfrom sklearn.linear_model import SGDClassifier\nsgd = SGDClassifier() \nsgd.fit(X_train, y_train)\nsgd_y_pred = sgd.predict(X_test)\nsgd_score = sgd.score(X_train, y_train)",
      "execution_count": 15,
      "outputs": [
        {
          "output_type": "stream",
          "text": "/opt/conda/lib/python3.6/site-packages/sklearn/linear_model/stochastic_gradient.py:128: FutureWarning: max_iter and tol parameters have been added in <class 'sklearn.linear_model.stochastic_gradient.SGDClassifier'> in 0.19. If both are left unset, they default to max_iter=5 and tol=None. If tol is not None, max_iter defaults to max_iter=1000. From 0.21, default max_iter will be 1000, and default tol will be 1e-3.\n  \"and default tol will be 1e-3.\" % type(self), FutureWarning)\n",
          "name": "stderr"
        }
      ]
    },
    {
      "metadata": {
        "_cell_guid": "a3ec42cb-a387-415b-9aef-779f6f2d4789",
        "_uuid": "145ded7cea41f7f23701d5c3e7e0fe6beaa20d22",
        "collapsed": true,
        "trusted": true
      },
      "cell_type": "code",
      "source": "from sklearn.tree import DecisionTreeClassifier\ndt = DecisionTreeClassifier() \ndt.fit(X_train, y_train)\ndt_y_pred = dt.predict(X_test)\ndt_score = dt.score(X_train, y_train)",
      "execution_count": 16,
      "outputs": []
    },
    {
      "metadata": {
        "_cell_guid": "d75804ba-f9da-4585-a602-95067a803fc6",
        "_uuid": "21908612d5bf1eb764427c5c86fafddc8b9ca546",
        "trusted": true
      },
      "cell_type": "code",
      "source": "results = pd.DataFrame({\n    \"Winner\":test_df['Winner'],\n    \"Logistic Regression\": log_y_pred,\n    \"Random Forest Classifier\": rf_y_pred,\n    \"Stochastic Gradient Descent\": sgd_y_pred,\n    \"Decision Tree\": dt_y_pred\n})\nresults.head()",
      "execution_count": 17,
      "outputs": [
        {
          "output_type": "execute_result",
          "execution_count": 17,
          "data": {
            "text/plain": "   Decision Tree  Logistic Regression  Random Forest Classifier  \\\n0              1                    0                         1   \n1              1                    0                         1   \n2              1                    1                         1   \n3              1                    0                         1   \n4              1                    0                         1   \n\n   Stochastic Gradient Descent        Winner  \n0                            0  Barack Obama  \n1                            1  Barack Obama  \n2                            1  Barack Obama  \n3                            1  Barack Obama  \n4                            0  Barack Obama  ",
            "text/html": "<div>\n<style>\n    .dataframe thead tr:only-child th {\n        text-align: right;\n    }\n\n    .dataframe thead th {\n        text-align: left;\n    }\n\n    .dataframe tbody tr th {\n        vertical-align: top;\n    }\n</style>\n<table border=\"1\" class=\"dataframe\">\n  <thead>\n    <tr style=\"text-align: right;\">\n      <th></th>\n      <th>Decision Tree</th>\n      <th>Logistic Regression</th>\n      <th>Random Forest Classifier</th>\n      <th>Stochastic Gradient Descent</th>\n      <th>Winner</th>\n    </tr>\n  </thead>\n  <tbody>\n    <tr>\n      <th>0</th>\n      <td>1</td>\n      <td>0</td>\n      <td>1</td>\n      <td>0</td>\n      <td>Barack Obama</td>\n    </tr>\n    <tr>\n      <th>1</th>\n      <td>1</td>\n      <td>0</td>\n      <td>1</td>\n      <td>1</td>\n      <td>Barack Obama</td>\n    </tr>\n    <tr>\n      <th>2</th>\n      <td>1</td>\n      <td>1</td>\n      <td>1</td>\n      <td>1</td>\n      <td>Barack Obama</td>\n    </tr>\n    <tr>\n      <th>3</th>\n      <td>1</td>\n      <td>0</td>\n      <td>1</td>\n      <td>1</td>\n      <td>Barack Obama</td>\n    </tr>\n    <tr>\n      <th>4</th>\n      <td>1</td>\n      <td>0</td>\n      <td>1</td>\n      <td>0</td>\n      <td>Barack Obama</td>\n    </tr>\n  </tbody>\n</table>\n</div>"
          },
          "metadata": {}
        }
      ]
    },
    {
      "metadata": {
        "_cell_guid": "898d90fe-89b5-4414-85fd-95021075bfdf",
        "_uuid": "86e881c306c644e0293a1dbaf191f6cbb222877e",
        "trusted": true
      },
      "cell_type": "code",
      "source": "from collections import Counter \nlog_reg_count = Counter(log_y_pred)\nrf_count = Counter(rf_y_pred)\nsgd_count = Counter(sgd_y_pred)\ndt_count = Counter(dt_y_pred)\nprint(log_reg_count)\nprint(rf_count)\nprint(sgd_count)\nprint(dt_count)",
      "execution_count": 18,
      "outputs": [
        {
          "output_type": "stream",
          "text": "Counter({0: 1085, 1: 128})\nCounter({0: 968, 1: 245})\nCounter({1: 714, 0: 499})\nCounter({0: 949, 1: 264})\n",
          "name": "stdout"
        }
      ]
    },
    {
      "metadata": {
        "_cell_guid": "3beb68e8-b3c8-4d29-8612-124386184036",
        "_uuid": "b1d34adc30bd71dfb026b7294830c3a6bcd9b82f",
        "trusted": true
      },
      "cell_type": "code",
      "source": "results = pd.DataFrame({\n    \"Model\": [\"Logistic Reg\", \"Random Forest\", \"Stochastic Gradient Descent\",\"Decision Tree\"],\n    \"Barack Obama\": [log_reg_count[1], rf_count[1], sgd_count[1], dt_count[1]],\n    \"Mitt Romney\": [log_reg_count[0], rf_count[0], sgd_count[0], dt_count[0]],\n    \"Score\": [log_reg_score, rf_score, sgd_score, dt_score]\n})\n\n# size of the dataframes we're dealing with - for comparison purposes\nshapes = pd.DataFrame({\n    \"Dataset\": [\"Barack Obama\",\"Mitt Romney\"],\n    \"Train\": [train_df.groupby('Winner').size()[0], train_df.groupby('Winner').size()[1]],\n    \"Test\": [test_df.groupby('Winner').size()[0], test_df.groupby('Winner').size()[1]]\n})\n\nprint(shapes)\nresults.sort_values(by=\"Score\", ascending=False)",
      "execution_count": 19,
      "outputs": [
        {
          "output_type": "stream",
          "text": "        Dataset  Test  Train\n0  Barack Obama   264    264\n1   Mitt Romney   949    949\n",
          "name": "stdout"
        },
        {
          "output_type": "execute_result",
          "execution_count": 19,
          "data": {
            "text/plain": "   Barack Obama  Mitt Romney                        Model     Score\n3           264          949                Decision Tree  1.000000\n1           245          968                Random Forest  0.984336\n0           128         1085                 Logistic Reg  0.835120\n2           714          499  Stochastic Gradient Descent  0.516900",
            "text/html": "<div>\n<style>\n    .dataframe thead tr:only-child th {\n        text-align: right;\n    }\n\n    .dataframe thead th {\n        text-align: left;\n    }\n\n    .dataframe tbody tr th {\n        vertical-align: top;\n    }\n</style>\n<table border=\"1\" class=\"dataframe\">\n  <thead>\n    <tr style=\"text-align: right;\">\n      <th></th>\n      <th>Barack Obama</th>\n      <th>Mitt Romney</th>\n      <th>Model</th>\n      <th>Score</th>\n    </tr>\n  </thead>\n  <tbody>\n    <tr>\n      <th>3</th>\n      <td>264</td>\n      <td>949</td>\n      <td>Decision Tree</td>\n      <td>1.000000</td>\n    </tr>\n    <tr>\n      <th>1</th>\n      <td>245</td>\n      <td>968</td>\n      <td>Random Forest</td>\n      <td>0.984336</td>\n    </tr>\n    <tr>\n      <th>0</th>\n      <td>128</td>\n      <td>1085</td>\n      <td>Logistic Reg</td>\n      <td>0.835120</td>\n    </tr>\n    <tr>\n      <th>2</th>\n      <td>714</td>\n      <td>499</td>\n      <td>Stochastic Gradient Descent</td>\n      <td>0.516900</td>\n    </tr>\n  </tbody>\n</table>\n</div>"
          },
          "metadata": {}
        }
      ]
    },
    {
      "metadata": {
        "_cell_guid": "f8bd2d26-503e-4948-bc4d-6d69399f0baf",
        "_uuid": "07cf89a0497c9ec4ba1af64d1076c0d794f818cf"
      },
      "cell_type": "markdown",
      "source": "Clearly that decision tree is overfitted and ended up with 100% accuracy, which sounds pretty bizzare. Of course, the model performances here are not validated as the class is imbalance. We can either up-sample  the minority class / down-sample the majority class or use other methodologies to deal with it.\n\nWill work on it soon! Stay tuned :)"
    },
    {
      "metadata": {
        "_cell_guid": "228a6acc-6f75-48cf-9287-ae089ddd996c",
        "_uuid": "d99135a5866e14ca197bf1c0ab16d95455bee34b",
        "collapsed": true,
        "trusted": true
      },
      "cell_type": "code",
      "source": "",
      "execution_count": null,
      "outputs": []
    }
  ],
  "metadata": {
    "kernelspec": {
      "display_name": "Python 3",
      "language": "python",
      "name": "python3"
    },
    "language_info": {
      "name": "python",
      "version": "3.6.3",
      "mimetype": "text/x-python",
      "codemirror_mode": {
        "name": "ipython",
        "version": 3
      },
      "pygments_lexer": "ipython3",
      "nbconvert_exporter": "python",
      "file_extension": ".py"
    }
  },
  "nbformat": 4,
  "nbformat_minor": 1
}